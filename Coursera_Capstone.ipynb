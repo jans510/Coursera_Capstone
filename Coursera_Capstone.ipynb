{
 "cells": [
  {
   "cell_type": "markdown",
   "metadata": {},
   "source": [
    "<h1>Coursera Capstone Data Collision</h1>"
   ]
  },
  {
   "cell_type": "markdown",
   "metadata": {},
   "source": [
    "This notebook is the final capstone of the IBM Data Science Coursera course. With this notebook, the <b>Data Collisions - All years</b> data set for seattle will be evaluated and a prediction will be done for the probability of a collission under some given circumstances.\n",
    "\n",
    "To achieve this, the data will be analyzed, avaluated, preprocessed and models will be created and tested to find the best model and prediction. "
   ]
  },
  {
   "cell_type": "markdown",
   "metadata": {},
   "source": [
    "<h2>Business Problem</h2>"
   ]
  },
  {
   "cell_type": "markdown",
   "metadata": {},
   "source": [
    "There are several variables who can indicate that there is a high risk to have an accident, variables which influence the risk could be for example the weather condition (are the roads slippy?), time of the day (is the driver tired?) and so on.<br/>\n",
    "With the following examination we want to have a deeper look onto the weakest participants in traffic, the pedestrians. Pedestrians are often not the root cause of accidents but if they are involved, the often have severe injuries. \n",
    "By analyzing the data set we want to find out, under what circumstances the risk of an accident with pedestrians is high and when the injuries are worse. The results should be used by authorities to work out a guide for pedestrians to participate safely in traffic."
   ]
  },
  {
   "cell_type": "markdown",
   "metadata": {},
   "source": [
    "<h2>Data</h2>"
   ]
  },
  {
   "cell_type": "markdown",
   "metadata": {},
   "source": [
    "We will use the data set recommended for this course (<b>Data Collisions - All years</b> for Seattle 2004 to now). As a first step we create a dataframe with the raw data, analyzing the given properties."
   ]
  },
  {
   "cell_type": "code",
   "execution_count": 1,
   "metadata": {},
   "outputs": [
    {
     "name": "stdout",
     "output_type": "stream",
     "text": [
      "100% [........................................................................] 73917638 / 73917638"
     ]
    },
    {
     "name": "stderr",
     "output_type": "stream",
     "text": [
      "C:\\Users\\js423\\anaconda3\\lib\\site-packages\\IPython\\core\\interactiveshell.py:3063: DtypeWarning: Columns (33) have mixed types.Specify dtype option on import or set low_memory=False.\n",
      "  interactivity=interactivity, compiler=compiler, result=result)\n"
     ]
    },
    {
     "data": {
      "text/html": [
       "<div>\n",
       "<style scoped>\n",
       "    .dataframe tbody tr th:only-of-type {\n",
       "        vertical-align: middle;\n",
       "    }\n",
       "\n",
       "    .dataframe tbody tr th {\n",
       "        vertical-align: top;\n",
       "    }\n",
       "\n",
       "    .dataframe thead th {\n",
       "        text-align: right;\n",
       "    }\n",
       "</style>\n",
       "<table border=\"1\" class=\"dataframe\">\n",
       "  <thead>\n",
       "    <tr style=\"text-align: right;\">\n",
       "      <th></th>\n",
       "      <th>SEVERITYCODE</th>\n",
       "      <th>X</th>\n",
       "      <th>Y</th>\n",
       "      <th>OBJECTID</th>\n",
       "      <th>INCKEY</th>\n",
       "      <th>COLDETKEY</th>\n",
       "      <th>REPORTNO</th>\n",
       "      <th>STATUS</th>\n",
       "      <th>ADDRTYPE</th>\n",
       "      <th>INTKEY</th>\n",
       "      <th>...</th>\n",
       "      <th>ROADCOND</th>\n",
       "      <th>LIGHTCOND</th>\n",
       "      <th>PEDROWNOTGRNT</th>\n",
       "      <th>SDOTCOLNUM</th>\n",
       "      <th>SPEEDING</th>\n",
       "      <th>ST_COLCODE</th>\n",
       "      <th>ST_COLDESC</th>\n",
       "      <th>SEGLANEKEY</th>\n",
       "      <th>CROSSWALKKEY</th>\n",
       "      <th>HITPARKEDCAR</th>\n",
       "    </tr>\n",
       "  </thead>\n",
       "  <tbody>\n",
       "    <tr>\n",
       "      <th>0</th>\n",
       "      <td>2</td>\n",
       "      <td>-122.323148</td>\n",
       "      <td>47.703140</td>\n",
       "      <td>1</td>\n",
       "      <td>1307</td>\n",
       "      <td>1307</td>\n",
       "      <td>3502005</td>\n",
       "      <td>Matched</td>\n",
       "      <td>Intersection</td>\n",
       "      <td>37475.0</td>\n",
       "      <td>...</td>\n",
       "      <td>Wet</td>\n",
       "      <td>Daylight</td>\n",
       "      <td>NaN</td>\n",
       "      <td>NaN</td>\n",
       "      <td>NaN</td>\n",
       "      <td>10</td>\n",
       "      <td>Entering at angle</td>\n",
       "      <td>0</td>\n",
       "      <td>0</td>\n",
       "      <td>N</td>\n",
       "    </tr>\n",
       "    <tr>\n",
       "      <th>1</th>\n",
       "      <td>1</td>\n",
       "      <td>-122.347294</td>\n",
       "      <td>47.647172</td>\n",
       "      <td>2</td>\n",
       "      <td>52200</td>\n",
       "      <td>52200</td>\n",
       "      <td>2607959</td>\n",
       "      <td>Matched</td>\n",
       "      <td>Block</td>\n",
       "      <td>NaN</td>\n",
       "      <td>...</td>\n",
       "      <td>Wet</td>\n",
       "      <td>Dark - Street Lights On</td>\n",
       "      <td>NaN</td>\n",
       "      <td>6354039.0</td>\n",
       "      <td>NaN</td>\n",
       "      <td>11</td>\n",
       "      <td>From same direction - both going straight - bo...</td>\n",
       "      <td>0</td>\n",
       "      <td>0</td>\n",
       "      <td>N</td>\n",
       "    </tr>\n",
       "    <tr>\n",
       "      <th>2</th>\n",
       "      <td>1</td>\n",
       "      <td>-122.334540</td>\n",
       "      <td>47.607871</td>\n",
       "      <td>3</td>\n",
       "      <td>26700</td>\n",
       "      <td>26700</td>\n",
       "      <td>1482393</td>\n",
       "      <td>Matched</td>\n",
       "      <td>Block</td>\n",
       "      <td>NaN</td>\n",
       "      <td>...</td>\n",
       "      <td>Dry</td>\n",
       "      <td>Daylight</td>\n",
       "      <td>NaN</td>\n",
       "      <td>4323031.0</td>\n",
       "      <td>NaN</td>\n",
       "      <td>32</td>\n",
       "      <td>One parked--one moving</td>\n",
       "      <td>0</td>\n",
       "      <td>0</td>\n",
       "      <td>N</td>\n",
       "    </tr>\n",
       "    <tr>\n",
       "      <th>3</th>\n",
       "      <td>1</td>\n",
       "      <td>-122.334803</td>\n",
       "      <td>47.604803</td>\n",
       "      <td>4</td>\n",
       "      <td>1144</td>\n",
       "      <td>1144</td>\n",
       "      <td>3503937</td>\n",
       "      <td>Matched</td>\n",
       "      <td>Block</td>\n",
       "      <td>NaN</td>\n",
       "      <td>...</td>\n",
       "      <td>Dry</td>\n",
       "      <td>Daylight</td>\n",
       "      <td>NaN</td>\n",
       "      <td>NaN</td>\n",
       "      <td>NaN</td>\n",
       "      <td>23</td>\n",
       "      <td>From same direction - all others</td>\n",
       "      <td>0</td>\n",
       "      <td>0</td>\n",
       "      <td>N</td>\n",
       "    </tr>\n",
       "    <tr>\n",
       "      <th>4</th>\n",
       "      <td>2</td>\n",
       "      <td>-122.306426</td>\n",
       "      <td>47.545739</td>\n",
       "      <td>5</td>\n",
       "      <td>17700</td>\n",
       "      <td>17700</td>\n",
       "      <td>1807429</td>\n",
       "      <td>Matched</td>\n",
       "      <td>Intersection</td>\n",
       "      <td>34387.0</td>\n",
       "      <td>...</td>\n",
       "      <td>Wet</td>\n",
       "      <td>Daylight</td>\n",
       "      <td>NaN</td>\n",
       "      <td>4028032.0</td>\n",
       "      <td>NaN</td>\n",
       "      <td>10</td>\n",
       "      <td>Entering at angle</td>\n",
       "      <td>0</td>\n",
       "      <td>0</td>\n",
       "      <td>N</td>\n",
       "    </tr>\n",
       "  </tbody>\n",
       "</table>\n",
       "<p>5 rows × 38 columns</p>\n",
       "</div>"
      ],
      "text/plain": [
       "   SEVERITYCODE           X          Y  OBJECTID  INCKEY  COLDETKEY REPORTNO  \\\n",
       "0             2 -122.323148  47.703140         1    1307       1307  3502005   \n",
       "1             1 -122.347294  47.647172         2   52200      52200  2607959   \n",
       "2             1 -122.334540  47.607871         3   26700      26700  1482393   \n",
       "3             1 -122.334803  47.604803         4    1144       1144  3503937   \n",
       "4             2 -122.306426  47.545739         5   17700      17700  1807429   \n",
       "\n",
       "    STATUS      ADDRTYPE   INTKEY  ... ROADCOND                LIGHTCOND  \\\n",
       "0  Matched  Intersection  37475.0  ...      Wet                 Daylight   \n",
       "1  Matched         Block      NaN  ...      Wet  Dark - Street Lights On   \n",
       "2  Matched         Block      NaN  ...      Dry                 Daylight   \n",
       "3  Matched         Block      NaN  ...      Dry                 Daylight   \n",
       "4  Matched  Intersection  34387.0  ...      Wet                 Daylight   \n",
       "\n",
       "  PEDROWNOTGRNT  SDOTCOLNUM SPEEDING ST_COLCODE  \\\n",
       "0           NaN         NaN      NaN         10   \n",
       "1           NaN   6354039.0      NaN         11   \n",
       "2           NaN   4323031.0      NaN         32   \n",
       "3           NaN         NaN      NaN         23   \n",
       "4           NaN   4028032.0      NaN         10   \n",
       "\n",
       "                                          ST_COLDESC  SEGLANEKEY  \\\n",
       "0                                  Entering at angle           0   \n",
       "1  From same direction - both going straight - bo...           0   \n",
       "2                             One parked--one moving           0   \n",
       "3                   From same direction - all others           0   \n",
       "4                                  Entering at angle           0   \n",
       "\n",
       "   CROSSWALKKEY  HITPARKEDCAR  \n",
       "0             0             N  \n",
       "1             0             N  \n",
       "2             0             N  \n",
       "3             0             N  \n",
       "4             0             N  \n",
       "\n",
       "[5 rows x 38 columns]"
      ]
     },
     "execution_count": 1,
     "metadata": {},
     "output_type": "execute_result"
    }
   ],
   "source": [
    "import pandas as pd\n",
    "import numpy as np\n",
    "import wget\n",
    "wget.download('https://s3.us.cloud-object-storage.appdomain.cloud/cf-courses-data/CognitiveClass/DP0701EN/version-2/Data-Collisions.csv')\n",
    "raw_df = pd.read_csv('Data-Collisions.csv')\n",
    "raw_df.head()"
   ]
  },
  {
   "cell_type": "code",
   "execution_count": 2,
   "metadata": {},
   "outputs": [
    {
     "data": {
      "text/html": [
       "<div>\n",
       "<style scoped>\n",
       "    .dataframe tbody tr th:only-of-type {\n",
       "        vertical-align: middle;\n",
       "    }\n",
       "\n",
       "    .dataframe tbody tr th {\n",
       "        vertical-align: top;\n",
       "    }\n",
       "\n",
       "    .dataframe thead th {\n",
       "        text-align: right;\n",
       "    }\n",
       "</style>\n",
       "<table border=\"1\" class=\"dataframe\">\n",
       "  <thead>\n",
       "    <tr style=\"text-align: right;\">\n",
       "      <th></th>\n",
       "      <th>SEVERITYCODE</th>\n",
       "      <th>X</th>\n",
       "      <th>Y</th>\n",
       "      <th>OBJECTID</th>\n",
       "      <th>INCKEY</th>\n",
       "      <th>COLDETKEY</th>\n",
       "      <th>REPORTNO</th>\n",
       "      <th>STATUS</th>\n",
       "      <th>ADDRTYPE</th>\n",
       "      <th>INTKEY</th>\n",
       "      <th>...</th>\n",
       "      <th>ROADCOND</th>\n",
       "      <th>LIGHTCOND</th>\n",
       "      <th>PEDROWNOTGRNT</th>\n",
       "      <th>SDOTCOLNUM</th>\n",
       "      <th>SPEEDING</th>\n",
       "      <th>ST_COLCODE</th>\n",
       "      <th>ST_COLDESC</th>\n",
       "      <th>SEGLANEKEY</th>\n",
       "      <th>CROSSWALKKEY</th>\n",
       "      <th>HITPARKEDCAR</th>\n",
       "    </tr>\n",
       "  </thead>\n",
       "  <tbody>\n",
       "    <tr>\n",
       "      <th>count</th>\n",
       "      <td>194673.000000</td>\n",
       "      <td>189339.000000</td>\n",
       "      <td>189339.000000</td>\n",
       "      <td>194673.000000</td>\n",
       "      <td>194673.000000</td>\n",
       "      <td>194673.000000</td>\n",
       "      <td>194673</td>\n",
       "      <td>194673</td>\n",
       "      <td>192747</td>\n",
       "      <td>65070.000000</td>\n",
       "      <td>...</td>\n",
       "      <td>189661</td>\n",
       "      <td>189503</td>\n",
       "      <td>4667</td>\n",
       "      <td>1.149360e+05</td>\n",
       "      <td>9333</td>\n",
       "      <td>194655</td>\n",
       "      <td>189769</td>\n",
       "      <td>194673.000000</td>\n",
       "      <td>1.946730e+05</td>\n",
       "      <td>194673</td>\n",
       "    </tr>\n",
       "    <tr>\n",
       "      <th>unique</th>\n",
       "      <td>NaN</td>\n",
       "      <td>NaN</td>\n",
       "      <td>NaN</td>\n",
       "      <td>NaN</td>\n",
       "      <td>NaN</td>\n",
       "      <td>NaN</td>\n",
       "      <td>194670</td>\n",
       "      <td>2</td>\n",
       "      <td>3</td>\n",
       "      <td>NaN</td>\n",
       "      <td>...</td>\n",
       "      <td>9</td>\n",
       "      <td>9</td>\n",
       "      <td>1</td>\n",
       "      <td>NaN</td>\n",
       "      <td>1</td>\n",
       "      <td>115</td>\n",
       "      <td>62</td>\n",
       "      <td>NaN</td>\n",
       "      <td>NaN</td>\n",
       "      <td>2</td>\n",
       "    </tr>\n",
       "    <tr>\n",
       "      <th>top</th>\n",
       "      <td>NaN</td>\n",
       "      <td>NaN</td>\n",
       "      <td>NaN</td>\n",
       "      <td>NaN</td>\n",
       "      <td>NaN</td>\n",
       "      <td>NaN</td>\n",
       "      <td>1776526</td>\n",
       "      <td>Matched</td>\n",
       "      <td>Block</td>\n",
       "      <td>NaN</td>\n",
       "      <td>...</td>\n",
       "      <td>Dry</td>\n",
       "      <td>Daylight</td>\n",
       "      <td>Y</td>\n",
       "      <td>NaN</td>\n",
       "      <td>Y</td>\n",
       "      <td>32</td>\n",
       "      <td>One parked--one moving</td>\n",
       "      <td>NaN</td>\n",
       "      <td>NaN</td>\n",
       "      <td>N</td>\n",
       "    </tr>\n",
       "    <tr>\n",
       "      <th>freq</th>\n",
       "      <td>NaN</td>\n",
       "      <td>NaN</td>\n",
       "      <td>NaN</td>\n",
       "      <td>NaN</td>\n",
       "      <td>NaN</td>\n",
       "      <td>NaN</td>\n",
       "      <td>2</td>\n",
       "      <td>189786</td>\n",
       "      <td>126926</td>\n",
       "      <td>NaN</td>\n",
       "      <td>...</td>\n",
       "      <td>124510</td>\n",
       "      <td>116137</td>\n",
       "      <td>4667</td>\n",
       "      <td>NaN</td>\n",
       "      <td>9333</td>\n",
       "      <td>27612</td>\n",
       "      <td>44421</td>\n",
       "      <td>NaN</td>\n",
       "      <td>NaN</td>\n",
       "      <td>187457</td>\n",
       "    </tr>\n",
       "    <tr>\n",
       "      <th>mean</th>\n",
       "      <td>1.298901</td>\n",
       "      <td>-122.330518</td>\n",
       "      <td>47.619543</td>\n",
       "      <td>108479.364930</td>\n",
       "      <td>141091.456350</td>\n",
       "      <td>141298.811381</td>\n",
       "      <td>NaN</td>\n",
       "      <td>NaN</td>\n",
       "      <td>NaN</td>\n",
       "      <td>37558.450576</td>\n",
       "      <td>...</td>\n",
       "      <td>NaN</td>\n",
       "      <td>NaN</td>\n",
       "      <td>NaN</td>\n",
       "      <td>7.972521e+06</td>\n",
       "      <td>NaN</td>\n",
       "      <td>NaN</td>\n",
       "      <td>NaN</td>\n",
       "      <td>269.401114</td>\n",
       "      <td>9.782452e+03</td>\n",
       "      <td>NaN</td>\n",
       "    </tr>\n",
       "    <tr>\n",
       "      <th>std</th>\n",
       "      <td>0.457778</td>\n",
       "      <td>0.029976</td>\n",
       "      <td>0.056157</td>\n",
       "      <td>62649.722558</td>\n",
       "      <td>86634.402737</td>\n",
       "      <td>86986.542110</td>\n",
       "      <td>NaN</td>\n",
       "      <td>NaN</td>\n",
       "      <td>NaN</td>\n",
       "      <td>51745.990273</td>\n",
       "      <td>...</td>\n",
       "      <td>NaN</td>\n",
       "      <td>NaN</td>\n",
       "      <td>NaN</td>\n",
       "      <td>2.553533e+06</td>\n",
       "      <td>NaN</td>\n",
       "      <td>NaN</td>\n",
       "      <td>NaN</td>\n",
       "      <td>3315.776055</td>\n",
       "      <td>7.226926e+04</td>\n",
       "      <td>NaN</td>\n",
       "    </tr>\n",
       "    <tr>\n",
       "      <th>min</th>\n",
       "      <td>1.000000</td>\n",
       "      <td>-122.419091</td>\n",
       "      <td>47.495573</td>\n",
       "      <td>1.000000</td>\n",
       "      <td>1001.000000</td>\n",
       "      <td>1001.000000</td>\n",
       "      <td>NaN</td>\n",
       "      <td>NaN</td>\n",
       "      <td>NaN</td>\n",
       "      <td>23807.000000</td>\n",
       "      <td>...</td>\n",
       "      <td>NaN</td>\n",
       "      <td>NaN</td>\n",
       "      <td>NaN</td>\n",
       "      <td>1.007024e+06</td>\n",
       "      <td>NaN</td>\n",
       "      <td>NaN</td>\n",
       "      <td>NaN</td>\n",
       "      <td>0.000000</td>\n",
       "      <td>0.000000e+00</td>\n",
       "      <td>NaN</td>\n",
       "    </tr>\n",
       "    <tr>\n",
       "      <th>25%</th>\n",
       "      <td>1.000000</td>\n",
       "      <td>-122.348673</td>\n",
       "      <td>47.575956</td>\n",
       "      <td>54267.000000</td>\n",
       "      <td>70383.000000</td>\n",
       "      <td>70383.000000</td>\n",
       "      <td>NaN</td>\n",
       "      <td>NaN</td>\n",
       "      <td>NaN</td>\n",
       "      <td>28667.000000</td>\n",
       "      <td>...</td>\n",
       "      <td>NaN</td>\n",
       "      <td>NaN</td>\n",
       "      <td>NaN</td>\n",
       "      <td>6.040015e+06</td>\n",
       "      <td>NaN</td>\n",
       "      <td>NaN</td>\n",
       "      <td>NaN</td>\n",
       "      <td>0.000000</td>\n",
       "      <td>0.000000e+00</td>\n",
       "      <td>NaN</td>\n",
       "    </tr>\n",
       "    <tr>\n",
       "      <th>50%</th>\n",
       "      <td>1.000000</td>\n",
       "      <td>-122.330224</td>\n",
       "      <td>47.615369</td>\n",
       "      <td>106912.000000</td>\n",
       "      <td>123363.000000</td>\n",
       "      <td>123363.000000</td>\n",
       "      <td>NaN</td>\n",
       "      <td>NaN</td>\n",
       "      <td>NaN</td>\n",
       "      <td>29973.000000</td>\n",
       "      <td>...</td>\n",
       "      <td>NaN</td>\n",
       "      <td>NaN</td>\n",
       "      <td>NaN</td>\n",
       "      <td>8.023022e+06</td>\n",
       "      <td>NaN</td>\n",
       "      <td>NaN</td>\n",
       "      <td>NaN</td>\n",
       "      <td>0.000000</td>\n",
       "      <td>0.000000e+00</td>\n",
       "      <td>NaN</td>\n",
       "    </tr>\n",
       "    <tr>\n",
       "      <th>75%</th>\n",
       "      <td>2.000000</td>\n",
       "      <td>-122.311937</td>\n",
       "      <td>47.663664</td>\n",
       "      <td>162272.000000</td>\n",
       "      <td>203319.000000</td>\n",
       "      <td>203459.000000</td>\n",
       "      <td>NaN</td>\n",
       "      <td>NaN</td>\n",
       "      <td>NaN</td>\n",
       "      <td>33973.000000</td>\n",
       "      <td>...</td>\n",
       "      <td>NaN</td>\n",
       "      <td>NaN</td>\n",
       "      <td>NaN</td>\n",
       "      <td>1.015501e+07</td>\n",
       "      <td>NaN</td>\n",
       "      <td>NaN</td>\n",
       "      <td>NaN</td>\n",
       "      <td>0.000000</td>\n",
       "      <td>0.000000e+00</td>\n",
       "      <td>NaN</td>\n",
       "    </tr>\n",
       "    <tr>\n",
       "      <th>max</th>\n",
       "      <td>2.000000</td>\n",
       "      <td>-122.238949</td>\n",
       "      <td>47.734142</td>\n",
       "      <td>219547.000000</td>\n",
       "      <td>331454.000000</td>\n",
       "      <td>332954.000000</td>\n",
       "      <td>NaN</td>\n",
       "      <td>NaN</td>\n",
       "      <td>NaN</td>\n",
       "      <td>757580.000000</td>\n",
       "      <td>...</td>\n",
       "      <td>NaN</td>\n",
       "      <td>NaN</td>\n",
       "      <td>NaN</td>\n",
       "      <td>1.307202e+07</td>\n",
       "      <td>NaN</td>\n",
       "      <td>NaN</td>\n",
       "      <td>NaN</td>\n",
       "      <td>525241.000000</td>\n",
       "      <td>5.239700e+06</td>\n",
       "      <td>NaN</td>\n",
       "    </tr>\n",
       "  </tbody>\n",
       "</table>\n",
       "<p>11 rows × 38 columns</p>\n",
       "</div>"
      ],
      "text/plain": [
       "         SEVERITYCODE              X              Y       OBJECTID  \\\n",
       "count   194673.000000  189339.000000  189339.000000  194673.000000   \n",
       "unique            NaN            NaN            NaN            NaN   \n",
       "top               NaN            NaN            NaN            NaN   \n",
       "freq              NaN            NaN            NaN            NaN   \n",
       "mean         1.298901    -122.330518      47.619543  108479.364930   \n",
       "std          0.457778       0.029976       0.056157   62649.722558   \n",
       "min          1.000000    -122.419091      47.495573       1.000000   \n",
       "25%          1.000000    -122.348673      47.575956   54267.000000   \n",
       "50%          1.000000    -122.330224      47.615369  106912.000000   \n",
       "75%          2.000000    -122.311937      47.663664  162272.000000   \n",
       "max          2.000000    -122.238949      47.734142  219547.000000   \n",
       "\n",
       "               INCKEY      COLDETKEY REPORTNO   STATUS ADDRTYPE  \\\n",
       "count   194673.000000  194673.000000   194673   194673   192747   \n",
       "unique            NaN            NaN   194670        2        3   \n",
       "top               NaN            NaN  1776526  Matched    Block   \n",
       "freq              NaN            NaN        2   189786   126926   \n",
       "mean    141091.456350  141298.811381      NaN      NaN      NaN   \n",
       "std      86634.402737   86986.542110      NaN      NaN      NaN   \n",
       "min       1001.000000    1001.000000      NaN      NaN      NaN   \n",
       "25%      70383.000000   70383.000000      NaN      NaN      NaN   \n",
       "50%     123363.000000  123363.000000      NaN      NaN      NaN   \n",
       "75%     203319.000000  203459.000000      NaN      NaN      NaN   \n",
       "max     331454.000000  332954.000000      NaN      NaN      NaN   \n",
       "\n",
       "               INTKEY  ... ROADCOND LIGHTCOND PEDROWNOTGRNT    SDOTCOLNUM  \\\n",
       "count    65070.000000  ...   189661    189503          4667  1.149360e+05   \n",
       "unique            NaN  ...        9         9             1           NaN   \n",
       "top               NaN  ...      Dry  Daylight             Y           NaN   \n",
       "freq              NaN  ...   124510    116137          4667           NaN   \n",
       "mean     37558.450576  ...      NaN       NaN           NaN  7.972521e+06   \n",
       "std      51745.990273  ...      NaN       NaN           NaN  2.553533e+06   \n",
       "min      23807.000000  ...      NaN       NaN           NaN  1.007024e+06   \n",
       "25%      28667.000000  ...      NaN       NaN           NaN  6.040015e+06   \n",
       "50%      29973.000000  ...      NaN       NaN           NaN  8.023022e+06   \n",
       "75%      33973.000000  ...      NaN       NaN           NaN  1.015501e+07   \n",
       "max     757580.000000  ...      NaN       NaN           NaN  1.307202e+07   \n",
       "\n",
       "       SPEEDING ST_COLCODE              ST_COLDESC     SEGLANEKEY  \\\n",
       "count      9333     194655                  189769  194673.000000   \n",
       "unique        1        115                      62            NaN   \n",
       "top           Y         32  One parked--one moving            NaN   \n",
       "freq       9333      27612                   44421            NaN   \n",
       "mean        NaN        NaN                     NaN     269.401114   \n",
       "std         NaN        NaN                     NaN    3315.776055   \n",
       "min         NaN        NaN                     NaN       0.000000   \n",
       "25%         NaN        NaN                     NaN       0.000000   \n",
       "50%         NaN        NaN                     NaN       0.000000   \n",
       "75%         NaN        NaN                     NaN       0.000000   \n",
       "max         NaN        NaN                     NaN  525241.000000   \n",
       "\n",
       "        CROSSWALKKEY  HITPARKEDCAR  \n",
       "count   1.946730e+05        194673  \n",
       "unique           NaN             2  \n",
       "top              NaN             N  \n",
       "freq             NaN        187457  \n",
       "mean    9.782452e+03           NaN  \n",
       "std     7.226926e+04           NaN  \n",
       "min     0.000000e+00           NaN  \n",
       "25%     0.000000e+00           NaN  \n",
       "50%     0.000000e+00           NaN  \n",
       "75%     0.000000e+00           NaN  \n",
       "max     5.239700e+06           NaN  \n",
       "\n",
       "[11 rows x 38 columns]"
      ]
     },
     "execution_count": 2,
     "metadata": {},
     "output_type": "execute_result"
    }
   ],
   "source": [
    "raw_df.describe(include='all')"
   ]
  },
  {
   "cell_type": "markdown",
   "metadata": {},
   "source": [
    "<h2>Data Preparation</h2>"
   ]
  },
  {
   "cell_type": "markdown",
   "metadata": {},
   "source": [
    "As a first step we create a new column indicating if a pedestrian was involved:"
   ]
  },
  {
   "cell_type": "code",
   "execution_count": 3,
   "metadata": {},
   "outputs": [],
   "source": [
    "#Remove accidents where no pedestrian was involved\n",
    "raw_df['PEDESTRIANINVOLVED'] = raw_df.apply (lambda row: row.COLLISIONTYPE == 'Pedestrian', axis=1) \n",
    "df = raw_df.drop(['COLLISIONTYPE'], axis=1)"
   ]
  },
  {
   "cell_type": "markdown",
   "metadata": {},
   "source": [
    "Then we filter the dataset for columns that will be part of the further evaluation:"
   ]
  },
  {
   "cell_type": "code",
   "execution_count": 4,
   "metadata": {},
   "outputs": [],
   "source": [
    "df = df[['PEDESTRIANINVOLVED', 'SPEEDING', 'WEATHER', 'ROADCOND', 'INCDTTM', 'LIGHTCOND', 'PEDROWNOTGRNT']]"
   ]
  },
  {
   "cell_type": "markdown",
   "metadata": {},
   "source": [
    "The next step would be to have a deeper look onto the values, removing statistical outliers and set meaningful defaults on missing values.\n",
    "This step is done iteratively."
   ]
  },
  {
   "cell_type": "code",
   "execution_count": 5,
   "metadata": {},
   "outputs": [],
   "source": [
    "# create column ACCDATE (without date information)\n",
    "# Only use the hour where the accident happened and the day of the week\n",
    "df['ACCWEEKDAY'] = pd.to_datetime(df['INCDTTM']).dt.dayofweek\n",
    "df['ACCHOUR'] = pd.to_datetime(df['INCDTTM']).dt.hour\n",
    "\n",
    "# Remove rows where the accident took place at 00:00 as this seem to be a default value\n",
    "df['TIME'] =  pd.to_datetime(df['INCDTTM']).dt.time\n",
    "df = df.drop(df[df.TIME.astype(str) == '00:00:00'].index)\n",
    "# Drop additional columns that are not used\n",
    "df = df.drop(['INCDTTM'], axis=1)\n",
    "df = df.drop(['TIME'], axis=1)\n"
   ]
  },
  {
   "cell_type": "code",
   "execution_count": 6,
   "metadata": {},
   "outputs": [
    {
     "name": "stdout",
     "output_type": "stream",
     "text": [
      "Attribute values count: \n",
      "False    158256\n",
      "True       5891\n",
      "Name: PEDESTRIANINVOLVED, dtype: int64\n",
      "\n",
      "\n",
      "\n",
      "Attribute values count: \n",
      "N    156262\n",
      "Y      7885\n",
      "Name: SPEEDING, dtype: int64\n",
      "\n",
      "\n",
      "\n",
      "Attribute values count: \n",
      "Clear                       96391\n",
      "Raining                     28699\n",
      "Overcast                    23831\n",
      "Unknown                     13082\n",
      "Snowing                       776\n",
      "Other                         678\n",
      "Fog/Smog/Smoke                521\n",
      "Sleet/Hail/Freezing Rain       90\n",
      "Blowing Sand/Dirt              50\n",
      "Severe Crosswind               24\n",
      "Partly Cloudy                   5\n",
      "Name: WEATHER, dtype: int64\n",
      "\n",
      "\n",
      "\n",
      "Attribute values count: \n",
      "Dry               107719\n",
      "Wet                41107\n",
      "Unknown            13054\n",
      "Ice                 1080\n",
      "Snow/Slush           864\n",
      "Other                114\n",
      "Standing Water        95\n",
      "Sand/Mud/Dirt         60\n",
      "Oil                   54\n",
      "Name: ROADCOND, dtype: int64\n",
      "\n",
      "\n",
      "\n",
      "Attribute values count: \n",
      "Daylight                    100728\n",
      "Dark - Street Lights On      41954\n",
      "Unknown                      11751\n",
      "Dusk                          4993\n",
      "Dawn                          2152\n",
      "Dark - No Street Lights       1337\n",
      "Dark - Street Lights Off      1024\n",
      "Other                          198\n",
      "Dark - Unknown Lighting         10\n",
      "Name: LIGHTCOND, dtype: int64\n",
      "\n",
      "\n",
      "\n",
      "Attribute values count: \n",
      "N    160075\n",
      "Y      4072\n",
      "Name: PEDROWNOTGRNT, dtype: int64\n",
      "\n",
      "\n",
      "\n",
      "Attribute values count: \n",
      "4    27123\n",
      "3    24611\n",
      "2    24327\n",
      "1    24113\n",
      "5    23079\n",
      "0    22264\n",
      "6    18630\n",
      "Name: ACCWEEKDAY, dtype: int64\n",
      "\n",
      "\n",
      "\n",
      "Attribute values count: \n",
      "17    12947\n",
      "16    12122\n",
      "15    11514\n",
      "14    10615\n",
      "12    10384\n",
      "13    10219\n",
      "18     9743\n",
      "8      8570\n",
      "11     8209\n",
      "9      8052\n",
      "10     7465\n",
      "19     7256\n",
      "7      6543\n",
      "20     6236\n",
      "21     5571\n",
      "22     5468\n",
      "23     4611\n",
      "0      3855\n",
      "2      3606\n",
      "1      3408\n",
      "6      3199\n",
      "5      1667\n",
      "3      1665\n",
      "4      1222\n",
      "Name: ACCHOUR, dtype: int64\n",
      "\n",
      "\n",
      "\n"
     ]
    }
   ],
   "source": [
    "# Use Unknown as default for missing data\n",
    "df['WEATHER'].fillna('Unknown', inplace=True)\n",
    "df['ROADCOND'].fillna('Unknown', inplace=True)\n",
    "df['LIGHTCOND'].fillna('Unknown', inplace=True)\n",
    "\n",
    "# Use No as default value\n",
    "df['PEDROWNOTGRNT'].fillna('N', inplace=True)\n",
    "df['SPEEDING'].fillna('N', inplace=True)\n",
    "\n",
    "for column in df:\n",
    "    print('Attribute values count: ')\n",
    "    print(df[column].value_counts(dropna=False))\n",
    "    print('\\n\\n')"
   ]
  },
  {
   "cell_type": "markdown",
   "metadata": {},
   "source": [
    "As we want to have a balanced dataset we select the same number of accidents for both accidents with and without pedestrian involved:"
   ]
  },
  {
   "cell_type": "code",
   "execution_count": 15,
   "metadata": {},
   "outputs": [
    {
     "data": {
      "text/plain": [
       "True     5891\n",
       "False    5891\n",
       "Name: PEDESTRIANINVOLVED, dtype: int64"
      ]
     },
     "execution_count": 15,
     "metadata": {},
     "output_type": "execute_result"
    }
   ],
   "source": [
    "number_of_pedestrian_involved_true = df.loc[df.PEDESTRIANINVOLVED == True, 'PEDESTRIANINVOLVED'].count()\n",
    "\n",
    "df_pedestrian_not_involved = df[df['PEDESTRIANINVOLVED'] == False].sample(number_of_pedestrian_involved_true, random_state=0)\n",
    "df_pedestrian_involved = df[df['PEDESTRIANINVOLVED'] == True]\n",
    "\n",
    "df_balanced = pd.concat([df_pedestrian_not_involved, df_pedestrian_involved], axis=0)\n",
    "\n",
    "df_balanced['PEDESTRIANINVOLVED'].value_counts()"
   ]
  },
  {
   "cell_type": "markdown",
   "metadata": {},
   "source": [
    "<h2>Data Visualization<h2>"
   ]
  },
  {
   "cell_type": "markdown",
   "metadata": {},
   "source": [
    "In this chapter we will visualize the given data, depending on if a pedestrian was involved."
   ]
  },
  {
   "cell_type": "markdown",
   "metadata": {},
   "source": [
    "<h3>Speeding</h3>"
   ]
  },
  {
   "cell_type": "code",
   "execution_count": 8,
   "metadata": {},
   "outputs": [],
   "source": [
    "%matplotlib inline \n",
    "\n",
    "import matplotlib as mpl\n",
    "import matplotlib.pyplot as plt\n",
    "import seaborn as sns"
   ]
  },
  {
   "cell_type": "code",
   "execution_count": 16,
   "metadata": {},
   "outputs": [
    {
     "data": {
      "text/plain": [
       "<seaborn.axisgrid.FacetGrid at 0x2136b85a448>"
      ]
     },
     "execution_count": 16,
     "metadata": {},
     "output_type": "execute_result"
    },
    {
     "data": {
      "image/png": "[encoded data removed]",
      "text/plain": [
       "<Figure size 481.984x360 with 1 Axes>"
      ]
     },
     "metadata": {
      "needs_background": "light"
     },
     "output_type": "display_data"
    }
   ],
   "source": [
    "\n",
    "sns.catplot(x=\"SPEEDING\", hue=\"PEDESTRIANINVOLVED\", kind='count', data=df_balanced)"
   ]
  },
  {
   "cell_type": "markdown",
   "metadata": {},
   "source": [
    "<h3>Hour of accident</h3>"
   ]
  },
  {
   "cell_type": "code",
   "execution_count": 17,
   "metadata": {},
   "outputs": [
    {
     "data": {
      "text/plain": [
       "<seaborn.axisgrid.FacetGrid at 0x2136b7a9248>"
      ]
     },
     "execution_count": 17,
     "metadata": {},
     "output_type": "execute_result"
    },
    {
     "data": {
      "image/png": "[encoded data removed]",
      "text/plain": [
       "<Figure size 481.984x360 with 1 Axes>"
      ]
     },
     "metadata": {
      "needs_background": "light"
     },
     "output_type": "display_data"
    }
   ],
   "source": [
    "sns.catplot(x=\"ACCHOUR\", hue=\"PEDESTRIANINVOLVED\", kind='count', data=df_balanced)"
   ]
  },
  {
   "cell_type": "markdown",
   "metadata": {},
   "source": [
    "<h3>Weekday of accident</h3>"
   ]
  },
  {
   "cell_type": "code",
   "execution_count": 18,
   "metadata": {},
   "outputs": [
    {
     "data": {
      "text/plain": [
       "<seaborn.axisgrid.FacetGrid at 0x2136b9d3788>"
      ]
     },
     "execution_count": 18,
     "metadata": {},
     "output_type": "execute_result"
    },
    {
     "data": {
      "image/png": "[encoded data removed]",
      "text/plain": [
       "<Figure size 481.984x360 with 1 Axes>"
      ]
     },
     "metadata": {
      "needs_background": "light"
     },
     "output_type": "display_data"
    }
   ],
   "source": [
    "sns.catplot(x=\"ACCWEEKDAY\", hue=\"PEDESTRIANINVOLVED\", kind='count', data=df_balanced)"
   ]
  },
  {
   "cell_type": "markdown",
   "metadata": {},
   "source": [
    "<h3>Weather</h3>"
   ]
  },
  {
   "cell_type": "code",
   "execution_count": 19,
   "metadata": {},
   "outputs": [
    {
     "data": {
      "text/plain": [
       "<seaborn.axisgrid.FacetGrid at 0x2136b8e3408>"
      ]
     },
     "execution_count": 19,
     "metadata": {},
     "output_type": "execute_result"
    },
    {
     "data": {
      "image/png": "[encoded data removed]",
      "text/plain": [
       "<Figure size 481.984x360 with 1 Axes>"
      ]
     },
     "metadata": {
      "needs_background": "light"
     },
     "output_type": "display_data"
    }
   ],
   "source": [
    "sns.catplot(x=\"WEATHER\", hue=\"PEDESTRIANINVOLVED\", kind='count', data=df_balanced)"
   ]
  },
  {
   "cell_type": "markdown",
   "metadata": {},
   "source": [
    "<h3>Road condition</h3>"
   ]
  },
  {
   "cell_type": "code",
   "execution_count": 20,
   "metadata": {},
   "outputs": [
    {
     "data": {
      "text/plain": [
       "<seaborn.axisgrid.FacetGrid at 0x2136baa2a08>"
      ]
     },
     "execution_count": 20,
     "metadata": {},
     "output_type": "execute_result"
    },
    {
     "data": {
      "image/png": "[encoded data removed]",
      "text/plain": [
       "<Figure size 481.984x360 with 1 Axes>"
      ]
     },
     "metadata": {
      "needs_background": "light"
     },
     "output_type": "display_data"
    }
   ],
   "source": [
    "sns.catplot(x=\"ROADCOND\", hue=\"PEDESTRIANINVOLVED\", kind='count', data=df_balanced)"
   ]
  },
  {
   "cell_type": "markdown",
   "metadata": {},
   "source": [
    "<h3>Light condition</h3>"
   ]
  },
  {
   "cell_type": "code",
   "execution_count": 21,
   "metadata": {},
   "outputs": [
    {
     "data": {
      "text/plain": [
       "<seaborn.axisgrid.FacetGrid at 0x2136bb1a148>"
      ]
     },
     "execution_count": 21,
     "metadata": {},
     "output_type": "execute_result"
    },
    {
     "data": {
      "image/png": "[encoded data removed]",
      "text/plain": [
       "<Figure size 481.984x360 with 1 Axes>"
      ]
     },
     "metadata": {
      "needs_background": "light"
     },
     "output_type": "display_data"
    }
   ],
   "source": [
    "sns.catplot(x=\"LIGHTCOND\", hue=\"PEDESTRIANINVOLVED\", kind='count', data=df_balanced)"
   ]
  }
 ],
 "metadata": {
  "kernelspec": {
   "display_name": "Python 3",
   "language": "python",
   "name": "python3"
  },
  "language_info": {
   "codemirror_mode": {
    "name": "ipython",
    "version": 3
   },
   "file_extension": ".py",
   "mimetype": "text/x-python",
   "name": "python",
   "nbconvert_exporter": "python",
   "pygments_lexer": "ipython3",
   "version": "3.7.6"
  }
 },
 "nbformat": 4,
 "nbformat_minor": 4
}
